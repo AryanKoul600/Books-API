{
  "nbformat": 4,
  "nbformat_minor": 0,
  "metadata": {
    "colab": {
      "provenance": [],
      "collapsed_sections": [],
      "authorship_tag": "ABX9TyME4VRng65+6JZPENMhj7d7",
      "include_colab_link": true
    },
    "kernelspec": {
      "name": "python3",
      "display_name": "Python 3"
    },
    "language_info": {
      "name": "python"
    }
  },
  "cells": [
    {
      "cell_type": "markdown",
      "metadata": {
        "id": "view-in-github",
        "colab_type": "text"
      },
      "source": [
        "<a href=\"https://colab.research.google.com/github/AryanKoul600/Books-API/blob/main/Untitled1.ipynb\" target=\"_parent\"><img src=\"https://colab.research.google.com/assets/colab-badge.svg\" alt=\"Open In Colab\"/></a>"
      ]
    },
    {
      "cell_type": "markdown",
      "source": [],
      "metadata": {
        "id": "yqShtCxG3N0X"
      }
    },
    {
      "cell_type": "markdown",
      "source": [
        "Write  a program to add two numbers"
      ],
      "metadata": {
        "id": "1-DPhzCW5myU"
      }
    },
    {
      "cell_type": "code",
      "source": [
        "a = int(input(\"enter first number : \"))\n",
        "b = int(input(\"enter second number : \"))\n",
        "c = a+b\n",
        "print(c)"
      ],
      "metadata": {
        "colab": {
          "base_uri": "https://localhost:8080/"
        },
        "id": "fXfa_pCL5rrU",
        "outputId": "851d4f88-44ce-432a-b782-778e7bba3e92"
      },
      "execution_count": null,
      "outputs": [
        {
          "output_type": "stream",
          "name": "stdout",
          "text": [
            "enter first number : 4\n",
            "enter second number : 6\n",
            "10\n"
          ]
        }
      ]
    },
    {
      "cell_type": "markdown",
      "source": [
        " first 10 natural numbers"
      ],
      "metadata": {
        "id": "6M3oRQh558Xi"
      }
    },
    {
      "cell_type": "code",
      "source": [
        "for i in range(1,11,1):\n",
        "  print(i)\n",
        "  \n"
      ],
      "metadata": {
        "colab": {
          "base_uri": "https://localhost:8080/"
        },
        "id": "Ydd0srE16A6Y",
        "outputId": "3120838d-c837-4cab-b9c2-5723dd5922cc"
      },
      "execution_count": null,
      "outputs": [
        {
          "output_type": "stream",
          "name": "stdout",
          "text": [
            "1\n",
            "2\n",
            "3\n",
            "4\n",
            "5\n",
            "6\n",
            "7\n",
            "8\n",
            "9\n",
            "10\n"
          ]
        }
      ]
    },
    {
      "cell_type": "markdown",
      "source": [
        "print sum of first 10 natural numbers"
      ],
      "metadata": {
        "id": "yHFPqere9QNV"
      }
    },
    {
      "cell_type": "code",
      "source": [
        "sum = 0\n",
        "for i in range(1,11,1) :\n",
        "  sum = sum+i\n",
        "\n",
        "print(sum)"
      ],
      "metadata": {
        "colab": {
          "base_uri": "https://localhost:8080/"
        },
        "id": "2owptzBR9foM",
        "outputId": "f79e7061-7480-4190-a890-ea46d649c4fd"
      },
      "execution_count": null,
      "outputs": [
        {
          "output_type": "stream",
          "name": "stdout",
          "text": [
            "55\n"
          ]
        }
      ]
    },
    {
      "cell_type": "markdown",
      "source": [
        "Swapping of 2 numbers"
      ],
      "metadata": {
        "id": "soT90Eun-C9T"
      }
    },
    {
      "cell_type": "code",
      "source": [
        "a=5\n",
        "b=3\n",
        "temp = a\n",
        "a = b\n",
        "b = temp\n",
        "print(a)\n",
        "print(b)"
      ],
      "metadata": {
        "colab": {
          "base_uri": "https://localhost:8080/"
        },
        "id": "j_5xUniILJsw",
        "outputId": "ec4e37e6-7809-41b8-f758-e33aaa5cdf1b"
      },
      "execution_count": 1,
      "outputs": [
        {
          "output_type": "stream",
          "name": "stdout",
          "text": [
            "3\n",
            "5\n"
          ]
        }
      ]
    },
    {
      "cell_type": "markdown",
      "source": [
        "Swapping of 2 numbers without using third variable"
      ],
      "metadata": {
        "id": "YScCK2ynLma4"
      }
    },
    {
      "cell_type": "code",
      "source": [
        "a=5\n",
        "b=3\n",
        "a = a+b\n",
        "b = a-b\n",
        "a = a-b\n",
        "print(a)\n",
        "print(b)\n"
      ],
      "metadata": {
        "colab": {
          "base_uri": "https://localhost:8080/"
        },
        "id": "x-WtdS6WMoE5",
        "outputId": "790568a3-36dc-41bc-f11f-3969a62b716a"
      },
      "execution_count": 2,
      "outputs": [
        {
          "output_type": "stream",
          "name": "stdout",
          "text": [
            "3\n",
            "5\n"
          ]
        }
      ]
    },
    {
      "cell_type": "markdown",
      "source": [
        "Average of n numbers"
      ],
      "metadata": {
        "id": "RHNfMAbCM9fH"
      }
    },
    {
      "cell_type": "code",
      "source": [
        "num = int(input(\"how many numbers?\"))\n",
        "total_sum = 0\n",
        "for n in range (num):\n",
        "    numbers = float(input(\"enter any number\"))\n",
        "total_sum += numbers\n",
        "avg = total_sum/num\n",
        "print(\"average number is:\", avg)"
      ],
      "metadata": {
        "colab": {
          "base_uri": "https://localhost:8080/"
        },
        "id": "RKTPhI1gNKLF",
        "outputId": "8beb75c3-1360-4426-b6ca-259b4ad7e8fb"
      },
      "execution_count": 3,
      "outputs": [
        {
          "output_type": "stream",
          "name": "stdout",
          "text": [
            "how many numbers?3\n",
            "enter any number5\n",
            "enter any number6\n",
            "enter any number7\n",
            "average number is: 2.3333333333333335\n"
          ]
        }
      ]
    },
    {
      "cell_type": "markdown",
      "source": [
        "Q7)Develop an algorithm of first n terms of series\n",
        "   s = 1-3+5-7+9"
      ],
      "metadata": {
        "id": "xhu3yQHaNag6"
      }
    },
    {
      "cell_type": "code",
      "source": [
        "n= (int(input(\"Enter number:\")))\n",
        "m = 2*n\n",
        "sum = 0\n",
        "for i in range(1,m,2):\n",
        "    o = (-1)^(i+1)\n",
        "    sum = sum+i*o\n",
        "print(sum)"
      ],
      "metadata": {
        "colab": {
          "base_uri": "https://localhost:8080/"
        },
        "id": "l6WLs7PxN0ji",
        "outputId": "c5aa1350-d7de-4fd6-b7b4-606e5347027c"
      },
      "execution_count": 7,
      "outputs": [
        {
          "output_type": "stream",
          "name": "stdout",
          "text": [
            "Enter number:8\n",
            "-808\n"
          ]
        }
      ]
    },
    {
      "cell_type": "markdown",
      "source": [
        "Q7) For a given n, design an algorithm to compute 1/n!"
      ],
      "metadata": {
        "id": "JUwl9DCqPb8I"
      }
    },
    {
      "cell_type": "code",
      "source": [
        "# of 1/1! + 1/2! + ...1/n!\n",
        "n = (int(input(\"Enter number\")))\n",
        "def sum (n):   \n",
        "  sum = 0\n",
        "  fact = 1\n",
        "  for i in range (1, n+1):\n",
        "    fact*=1\n",
        "    sum+= 1/fact\n",
        "\n",
        "  print(sum)\n",
        "  sum (n)"
      ],
      "metadata": {
        "colab": {
          "base_uri": "https://localhost:8080/"
        },
        "id": "KSV33rTDPoDF",
        "outputId": "f67fe408-7c17-4406-d9ed-6c1d38bee6e8"
      },
      "execution_count": 8,
      "outputs": [
        {
          "name": "stdout",
          "output_type": "stream",
          "text": [
            "Enter number5\n"
          ]
        }
      ]
    },
    {
      "cell_type": "markdown",
      "source": [
        "Q8) Design an algorithm to determine wheter number n is a factorial number or not"
      ],
      "metadata": {
        "id": "cgKCvWjcP4xn"
      }
    },
    {
      "cell_type": "code",
      "source": [
        "num = int(input(\"Enter a number\"))\n",
        "factorial = 1\n",
        "if num < 0:\n",
        "  print(\"Factorial does not exist for negative numbers\")\n",
        "elif num == 0:\n",
        "  print(\"The factorial of 0 is 1\") \n",
        "\n",
        "else:\n",
        "  for i in range (1, num + 1):\n",
        "    factorial = factorial * 1\n",
        "  print( \"The factorial of num is factoial\")"
      ],
      "metadata": {
        "colab": {
          "base_uri": "https://localhost:8080/"
        },
        "id": "bF74gF5JP9HR",
        "outputId": "a30264b4-d0df-419f-c418-d8edc1a6fb5f"
      },
      "execution_count": 10,
      "outputs": [
        {
          "output_type": "stream",
          "name": "stdout",
          "text": [
            "Enter a number4\n",
            "The factorial of num is factoial\n"
          ]
        }
      ]
    },
    {
      "cell_type": "markdown",
      "source": [
        "Q9) Design an algorithm to get the sum of terms\n",
        "1/0! + 1/1! +1/2!......1/n!"
      ],
      "metadata": {
        "id": "EOjnJER6QL7D"
      }
    },
    {
      "cell_type": "code",
      "source": [
        "n = int(input(\"enter the value of n\"))\n",
        "def sum(n):\n",
        "  sum = 0.0\n",
        "  for i in range (1, n +1):\n",
        "    sum += 1.0/factorial(i)\n",
        "    print(\"the sum is\",1/ factorial(i))"
      ],
      "metadata": {
        "colab": {
          "base_uri": "https://localhost:8080/"
        },
        "id": "ThDwPFJpQQWb",
        "outputId": "c05543e7-0e94-49e3-d6d7-6d4954cc4aff"
      },
      "execution_count": 11,
      "outputs": [
        {
          "name": "stdout",
          "output_type": "stream",
          "text": [
            "enter the value of n5\n"
          ]
        }
      ]
    },
    {
      "cell_type": "markdown",
      "source": [
        "Q10) Design a program that counts digit in to an integer\n"
      ],
      "metadata": {
        "id": "P3YQGxXoQsRD"
      }
    },
    {
      "cell_type": "code",
      "source": [
        "n = int(input(\"enetr value of n\"))\n",
        "def countdigit (n):\n",
        "  count = 0\n",
        "  while n!=0 :\n",
        "    n//= 10\n",
        "    count += 1\n",
        "    return countprint(\"number of digits : %d\") (countdigit(n))\n",
        "    #Driver code\n",
        "    n = 234567889\n",
        "    "
      ],
      "metadata": {
        "colab": {
          "base_uri": "https://localhost:8080/"
        },
        "id": "G1F2t0yiQ5ow",
        "outputId": "51a45f49-3afb-4b25-b63b-f3d09334a0f9"
      },
      "execution_count": 12,
      "outputs": [
        {
          "name": "stdout",
          "output_type": "stream",
          "text": [
            "enetr value of n5\n"
          ]
        }
      ]
    },
    {
      "cell_type": "markdown",
      "source": [
        "Q11) Make a program to compute Fibbonacci series\n"
      ],
      "metadata": {
        "id": "FtuMSTNrRJ7x"
      }
    },
    {
      "cell_type": "code",
      "source": [
        "# Write a program to print fibonacci series upto n terms in python\n",
        "num = 10\n",
        "n1, n2 = 0, 1\n",
        "print(\"Fibonacci Series:\", n1, n2, end=\" \")\n",
        "for i in range(2, num):\n",
        "    n3 = n1 + n2\n",
        "    n1 = n2\n",
        "    n2 = n3\n",
        "    print(n3, end=\" \")\n",
        "\n",
        "print()"
      ],
      "metadata": {
        "colab": {
          "base_uri": "https://localhost:8080/"
        },
        "id": "TZ9YI5g3RNrB",
        "outputId": "b808c868-0fc0-4f8e-eea9-38f5c08855fd"
      },
      "execution_count": 13,
      "outputs": [
        {
          "output_type": "stream",
          "name": "stdout",
          "text": [
            "Fibonacci Series: 0 1 1 2 3 5 8 13 21 34 \n"
          ]
        }
      ]
    },
    {
      "cell_type": "markdown",
      "source": [
        "Q12) Make a program to compute nCr"
      ],
      "metadata": {
        "id": "trLMYuTjRdTK"
      }
    },
    {
      "cell_type": "code",
      "source": [
        "# The Value Of nCr\n",
        " \n",
        "def nCr(n, r):\n",
        " \n",
        "    return (fact(n) / (fact(r)\n",
        "                * fact(n - r)))\n",
        " \n",
        "# Returns factorial of n\n",
        "def fact(n):\n",
        "    if n == 0:\n",
        "        return 1\n",
        "    res = 1\n",
        "     \n",
        "    for i in range(2, n+1):\n",
        "        res = res * i\n",
        "         \n",
        "    return res\n",
        " \n",
        "# Driver code\n",
        "n = 5\n",
        "r = 3\n",
        "print(int(nCr(n, r)))"
      ],
      "metadata": {
        "colab": {
          "base_uri": "https://localhost:8080/"
        },
        "id": "d1wqkBk3RgEn",
        "outputId": "0a053ec9-053e-44a3-b0fa-3d9c51a34c82"
      },
      "execution_count": 14,
      "outputs": [
        {
          "output_type": "stream",
          "name": "stdout",
          "text": [
            "10\n"
          ]
        }
      ]
    },
    {
      "cell_type": "markdown",
      "source": [
        "Q18) Write a program to stimulate multiplication by addition"
      ],
      "metadata": {
        "id": "3WSfmXBpRmHt"
      }
    },
    {
      "cell_type": "code",
      "source": [
        "def multiply(a, b):                                                                                                                                                               \n",
        "    if (a == 1):\n",
        "        return b\n",
        "    elif (a == 0):\n",
        "        return 0\n",
        "    elif (a < 0):\n",
        "        return -multiply(-a, b)\n",
        "    else:\n",
        "        return b + multiply(a - 1, b)"
      ],
      "metadata": {
        "id": "TesvKlGbRm9x"
      },
      "execution_count": 16,
      "outputs": []
    },
    {
      "cell_type": "markdown",
      "source": [
        "Q19) Design an algorithm to find sum of n terms \n",
        "     0! + 1! + 2! +3!....n!"
      ],
      "metadata": {
        "id": "UdMgSL6VRtsm"
      }
    },
    {
      "cell_type": "code",
      "source": [
        "# Function of 1!, 2! upto N!\n",
        "def findFactSum(N):\n",
        " \n",
        "    # Initializing the variables\n",
        "    f = 1\n",
        "    Sum = 0\n",
        " \n",
        "    # Calculate the factorial and sum\n",
        "    # in the same loop\n",
        "    for i in range(1, N + 1):\n",
        "        f = f * i\n",
        "        Sum += f\n",
        " \n",
        "    # Return Sum as the final result.\n",
        "    return Sum\n",
        " \n",
        "# Driver Code\n",
        "if __name__ == \"__main__\":\n",
        "    N = 5\n",
        " \n",
        " \n",
        "    print(findFactSum(N))"
      ],
      "metadata": {
        "colab": {
          "base_uri": "https://localhost:8080/"
        },
        "id": "6dpgy2eyRwGH",
        "outputId": "09336efa-da07-4a30-ba71-c3ba998ef6a3"
      },
      "execution_count": 17,
      "outputs": [
        {
          "output_type": "stream",
          "name": "stdout",
          "text": [
            "153\n"
          ]
        }
      ]
    },
    {
      "cell_type": "markdown",
      "source": [
        "Q20) Design an algorithm that counts number of digits in an integer"
      ],
      "metadata": {
        "id": "5IEKvpZMR4aO"
      }
    },
    {
      "cell_type": "code",
      "source": [
        "num = 21009\n",
        "count = 0\n",
        "\n",
        "while num != 0:\n",
        "    num //= 10\n",
        "    count += 1\n",
        "\n",
        "print(\"Number of digits: \" + str(count))"
      ],
      "metadata": {
        "colab": {
          "base_uri": "https://localhost:8080/"
        },
        "id": "A4Q6_Tb9R5Zg",
        "outputId": "36a4fc19-1941-4455-9b1c-86ae702716f3"
      },
      "execution_count": 18,
      "outputs": [
        {
          "output_type": "stream",
          "name": "stdout",
          "text": [
            "Number of digits: 5\n"
          ]
        }
      ]
    },
    {
      "cell_type": "markdown",
      "source": [
        "Q21) Implement the square root finding method that was originally proposed"
      ],
      "metadata": {
        "id": "RRtqTQJxR_B-"
      }
    },
    {
      "cell_type": "code",
      "source": [
        "# Python Program to calculate the square root\n",
        "\n",
        "# Note: change this value for a different result\n",
        "num = 8 \n",
        "\n",
        "# To take the input from the user\n",
        "#num = float(input('Enter a number: '))\n",
        "\n",
        "num_sqrt = num % 2\n",
        "print('The square root of %0.3f is %0.3f'%(num ,num_sqrt))"
      ],
      "metadata": {
        "colab": {
          "base_uri": "https://localhost:8080/"
        },
        "id": "tMvND923R_7v",
        "outputId": "5a579169-a7c4-4d20-b8d4-6a0606910743"
      },
      "execution_count": 19,
      "outputs": [
        {
          "output_type": "stream",
          "name": "stdout",
          "text": [
            "The square root of 8.000 is 0.000\n"
          ]
        }
      ]
    },
    {
      "cell_type": "markdown",
      "source": [
        "Q22) Develop an algorithm to compute geometric mean"
      ],
      "metadata": {
        "id": "vgSa-blkSKiB"
      }
    },
    {
      "cell_type": "code",
      "source": [
        "multiply = 1\n",
        "values = [8,16,22,12,41]\n",
        "n = len(values)\n",
        "\n",
        "for i in values:\n",
        "    multiply = (multiply)*(i)\n",
        "\n",
        "geometric_mean = (multiply)**(1/n)\n",
        "print ('The Geometric Mean is: ' + str(geometric_mean))"
      ],
      "metadata": {
        "colab": {
          "base_uri": "https://localhost:8080/"
        },
        "id": "Rslm1PH_SLgO",
        "outputId": "a8026546-e65b-43bb-c2f2-4bc79e81b7fd"
      },
      "execution_count": 20,
      "outputs": [
        {
          "output_type": "stream",
          "name": "stdout",
          "text": [
            "The Geometric Mean is: 16.916852032061655\n"
          ]
        }
      ]
    },
    {
      "cell_type": "markdown",
      "source": [
        "Q23) Design an algorithm to generate Lucas sequence"
      ],
      "metadata": {
        "id": "3PTOqAPJSSN9"
      }
    },
    {
      "cell_type": "code",
      "source": [
        "# Python3 program to\n",
        "# find n'th Lucas number\n",
        " \n",
        "# recursive function\n",
        "def lucas(n):\n",
        "   \n",
        "    # Base cases\n",
        "    if n == 0:\n",
        "        return 2;\n",
        "    if n == 1:\n",
        "        return 1;\n",
        "   \n",
        "    # recurrence relation\n",
        "    return lucas(n - 1) + lucas(n - 2);\n",
        "     \n",
        "# Driver code to test above methods\n",
        "n = 9;\n",
        "print(lucas(n));\n",
        " "
      ],
      "metadata": {
        "colab": {
          "base_uri": "https://localhost:8080/"
        },
        "id": "NNL863kxSToM",
        "outputId": "aa810bd8-6134-4a66-bea3-2d27538e135f"
      },
      "execution_count": 21,
      "outputs": [
        {
          "output_type": "stream",
          "name": "stdout",
          "text": [
            "76\n"
          ]
        }
      ]
    },
    {
      "cell_type": "markdown",
      "source": [
        "Q24) Design an algorithm to compute reciporcal of a number"
      ],
      "metadata": {
        "id": "c_gghLY2SdYF"
      }
    },
    {
      "cell_type": "code",
      "source": [
        "# Python3 code demonstrate reciprocal() function\n",
        "  \n",
        "# importing numpy\n",
        "import numpy as np\n",
        "  \n",
        "in_arr = [2., 3., 8.] \n",
        "print (\"Input array : \", in_arr) \n",
        "    \n",
        "out_arr = np.reciprocal(in_arr) \n",
        "print (\"Output array : \", out_arr) "
      ],
      "metadata": {
        "colab": {
          "base_uri": "https://localhost:8080/"
        },
        "id": "V4jiHulHSeT5",
        "outputId": "5b87811a-d9c3-4c7e-d69a-75c4cf09e32a"
      },
      "execution_count": 22,
      "outputs": [
        {
          "output_type": "stream",
          "name": "stdout",
          "text": [
            "Input array :  [2.0, 3.0, 8.0]\n",
            "Output array :  [0.5        0.33333333 0.125     ]\n"
          ]
        }
      ]
    },
    {
      "cell_type": "markdown",
      "source": [
        "Q25) Design an algorithm that prints all perfect numbers between 1 to 500"
      ],
      "metadata": {
        "id": "W6uWzwT5Si2h"
      }
    },
    {
      "cell_type": "code",
      "source": [
        "def isPerfect( n ): \n",
        "\tsum = 1 \n",
        "\ti = 2 \n",
        "\twhile i * i <= n: \n",
        "\t\tif n % i == 0: \n",
        "\t\t\tsum = sum + i + n/i \n",
        "\t\ti += 1 \n",
        "\treturn (True if sum == n and n!=1 else False) \n",
        " \n",
        "limit = int(input(\"Enter a number\")) \n",
        "print(\"Below are all perfect numbers till 500\") \n",
        "n = 2 \n",
        "for n in range (limit): \n",
        "\tif isPerfect (n): \n",
        "\t\tprint(n , \" is a perfect number\")"
      ],
      "metadata": {
        "colab": {
          "base_uri": "https://localhost:8080/"
        },
        "id": "REU-YfV2Sjom",
        "outputId": "a595b44d-72dc-4ff6-b156-833464b59534"
      },
      "execution_count": 23,
      "outputs": [
        {
          "output_type": "stream",
          "name": "stdout",
          "text": [
            "Enter a number3\n",
            "Below are all perfect numbers till 500\n"
          ]
        }
      ]
    },
    {
      "cell_type": "markdown",
      "source": [
        "Q26) Design an algorithm that converts binary number to decimal number"
      ],
      "metadata": {
        "id": "80J-j0MASrCX"
      }
    },
    {
      "cell_type": "code",
      "source": [
        "b_num = list(input(\"Input a binary number: \"))\n",
        "value = 0\n",
        "\n",
        "for i in range(len(b_num)):\n",
        "\tdigit = b_num.pop()\n",
        "\tif digit == '1':\n",
        "\t\tvalue = value + pow(2, i)\n",
        "print(\"The decimal value of the number is\", value)"
      ],
      "metadata": {
        "colab": {
          "base_uri": "https://localhost:8080/"
        },
        "id": "QNo12Gw4Sr0L",
        "outputId": "86acf59b-0dcb-46d6-f848-50efcd9c3bf7"
      },
      "execution_count": 25,
      "outputs": [
        {
          "output_type": "stream",
          "name": "stdout",
          "text": [
            "Input a binary number: 1111\n",
            "The decimal value of the number is 15\n"
          ]
        }
      ]
    },
    {
      "cell_type": "markdown",
      "source": [
        "Q27) Design an algorithm that reverses the order of positive integers"
      ],
      "metadata": {
        "id": "z6_spiFpS4B6"
      }
    },
    {
      "cell_type": "code",
      "source": [
        "# Python Program to Reverse a Number using While loop    \n",
        "     \n",
        "Number = int(input(\"Please Enter any Number: \"))    \n",
        "Reverse = 0    \n",
        "while(Number > 0):    \n",
        "    Reminder = Number %10    \n",
        "    Reverse = (Reverse *10) + Reminder    \n",
        "    Number = Number //10    \n",
        "     \n",
        "print(\"\\n Reverse of entered number is = %d\" %Reverse) "
      ],
      "metadata": {
        "colab": {
          "base_uri": "https://localhost:8080/"
        },
        "id": "EuJCU0G1S416",
        "outputId": "c992ee8b-cab5-4d23-88e6-f2fa8608f60c"
      },
      "execution_count": 27,
      "outputs": [
        {
          "output_type": "stream",
          "name": "stdout",
          "text": [
            "Please Enter any Number: 20345\n",
            "\n",
            " Reverse of entered number is = 54302\n"
          ]
        }
      ]
    },
    {
      "cell_type": "markdown",
      "source": [
        "Q28) Design an algorithm to convert decimal to octal representation"
      ],
      "metadata": {
        "id": "e2W5a2_ITDr1"
      }
    },
    {
      "cell_type": "code",
      "source": [
        "def DecimalToOctal(n):\n",
        "    # array to store octal number\n",
        "    octal = [0] * 100\n",
        "\n",
        "    # counter for octal digits\n",
        "    i = 0\n",
        "\n",
        "    # run until n is 0\n",
        "    while (n != 0):\n",
        "        # Storing Remainder in Octal Array\n",
        "        octal[i] = n % 8\n",
        "        # updating value of n to n/8\n",
        "        n = int(n / 8)\n",
        "        # Increasing the Counter\n",
        "        i += 1\n",
        " \n",
        "    # Traversing Octal Array in Reverse Order\n",
        "    for j in range(i - 1, -1, -1):\n",
        "        print(octal[j], end=\"\")\n"
      ],
      "metadata": {
        "id": "NY6se2fITEsH"
      },
      "execution_count": 28,
      "outputs": []
    },
    {
      "cell_type": "markdown",
      "source": [
        "Q29) Implement a gcd algorithm that uses while loop rather than repeat loop"
      ],
      "metadata": {
        "id": "HWgZAcwRTLly"
      }
    },
    {
      "cell_type": "code",
      "source": [
        "a = float(input(\" Please Enter the First Value a: \"))\n",
        "b = float(input(\" Please Enter the Second Value b: \"))\n",
        "\n",
        "i = 1\n",
        "while(i <= a and i <= b):\n",
        "    if(a % i == 0 and b % i == 0):\n",
        "        val = i\n",
        "    i = i + 1\n",
        "    \n",
        "print(\"\\n HCF of {0} and {1} = {2}\".format(a, b, val))"
      ],
      "metadata": {
        "colab": {
          "base_uri": "https://localhost:8080/"
        },
        "id": "lL4UPnH9TNG3",
        "outputId": "a28e241e-280c-4710-c1a8-eccded168145"
      },
      "execution_count": 29,
      "outputs": [
        {
          "output_type": "stream",
          "name": "stdout",
          "text": [
            " Please Enter the First Value a: 5\n",
            " Please Enter the Second Value b: 6\n",
            "\n",
            " HCF of 5.0 and 6.0 = 1\n"
          ]
        }
      ]
    },
    {
      "cell_type": "markdown",
      "source": [
        "Q30) Design a gcd algorithm without using mod or divisible functions"
      ],
      "metadata": {
        "id": "fpEw9fFrTVIr"
      }
    },
    {
      "cell_type": "code",
      "source": [
        "def gcd(a, b):\n",
        "  \n",
        "    # Everything divides 0\n",
        "    if (a == 0):\n",
        "        return b\n",
        "    if (b == 0):\n",
        "        return a\n",
        "  \n",
        "    # base case\n",
        "    if (a == b):\n",
        "        return a\n",
        "  \n",
        "    # a is greater\n",
        "    if (a > b):\n",
        "        return gcd(a-b, b)\n",
        "    return gcd(a, b-a)\n",
        "  \n",
        "# Driver program to test above function\n",
        "a = 98\n",
        "b = 56\n",
        "if(gcd(a, b)):\n",
        "    print('GCD of', a, 'and', b, 'is', gcd(a, b))\n",
        "else:\n",
        "    print('not found')"
      ],
      "metadata": {
        "colab": {
          "base_uri": "https://localhost:8080/"
        },
        "id": "aYed-cHuTWGU",
        "outputId": "bae7358b-ec66-4429-8919-a78e27550c66"
      },
      "execution_count": 30,
      "outputs": [
        {
          "output_type": "stream",
          "name": "stdout",
          "text": [
            "GCD of 98 and 56 is 14\n"
          ]
        }
      ]
    },
    {
      "cell_type": "markdown",
      "source": [
        "Q31) Design an algorithm that will find gcd of n positive non zero integers\n"
      ],
      "metadata": {
        "id": "JVxSFQsbTc5D"
      }
    },
    {
      "cell_type": "code",
      "source": [
        " #GCD of more than two (or array) numbers\n",
        " \n",
        "# Function implements the Euclidean\n",
        "# algorithm to find H.C.F. of two number\n",
        "def find_gcd(x, y):\n",
        "     \n",
        "    while(y):\n",
        "        x, y = y, x % y\n",
        "     \n",
        "    return x\n",
        "         \n",
        "# Driver Code       \n",
        "l = [2, 4, 6, 8, 16]\n",
        " \n",
        "num1 = l[0]\n",
        "num2 = l[1]\n",
        "gcd = find_gcd(num1, num2)\n",
        " \n",
        "for i in range(2, len(l)):\n",
        "    gcd = find_gcd(gcd, l[i])\n",
        "     \n",
        "print(gcd)"
      ],
      "metadata": {
        "colab": {
          "base_uri": "https://localhost:8080/"
        },
        "id": "ShUsEd-OTd4R",
        "outputId": "e17d597a-8ff7-4cdb-d00a-b628c709a9e9"
      },
      "execution_count": 31,
      "outputs": [
        {
          "output_type": "stream",
          "name": "stdout",
          "text": [
            "2\n"
          ]
        }
      ]
    }
  ]
}